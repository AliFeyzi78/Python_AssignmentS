{
 "cells": [
  {
   "cell_type": "code",
   "execution_count": 3,
   "metadata": {
    "tags": []
   },
   "outputs": [
    {
     "output_type": "stream",
     "name": "stdout",
     "text": "Hello, Joseph! See you later.\n"
    }
   ],
   "source": [
    "# Takes the first name from the user and compares it to yours,\n",
    "# Then if the name the user entered is the same as yours, print out such as : \"Hello, Joseph! The password is : W@12\",\n",
    "# If the name the user entered is not the same as yours, print out such as : \"Hello, Amina! See you later.\"\n",
    "\n",
    "first_name = \"Joseph\" \n",
    "first_name1 = input(\"Please ENTER your first name: \")\n",
    "\n",
    "if first_name == first_name1:\n",
    "    print(f\"Hello, {first_name1}! The password is : W@12\")\n",
    "else:\n",
    "    print(f\"Hello, {first_name1}! See you later.\")"
   ]
  },
  {
   "cell_type": "code",
   "execution_count": null,
   "metadata": {},
   "outputs": [],
   "source": []
  }
 ],
 "metadata": {
  "language_info": {
   "codemirror_mode": {
    "name": "ipython",
    "version": 3
   },
   "file_extension": ".py",
   "mimetype": "text/x-python",
   "name": "python",
   "nbconvert_exporter": "python",
   "pygments_lexer": "ipython3",
   "version": 3
  },
  "orig_nbformat": 2,
  "kernelspec": {
   "name": "python_defaultSpec_1594073174643",
   "display_name": "Python 3.7.6 64-bit ('zeron': virtualenv)"
  }
 },
 "nbformat": 4,
 "nbformat_minor": 2
}