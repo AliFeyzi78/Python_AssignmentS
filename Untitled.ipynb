{
 "cells": [
  {
   "cell_type": "code",
   "execution_count": 1,
   "metadata": {},
   "outputs": [
    {
     "name": "stdout",
     "output_type": "stream",
     "text": [
      "Please enter a positive number:  55\n",
      "55 is not prime number. \n",
      "***** '5' is divider of 55*****\n"
     ]
    }
   ],
   "source": [
    "number = int(input(\"Please enter a positive number:  \"))\n",
    "if number == 0:\n",
    "    print(f\"{number} is not a prime number!\")\n",
    "elif number == 1:\n",
    "    print(f\"{number} is not a prime number\")\n",
    "else:\n",
    "    for i in range(2, number):\n",
    "        if number % i == 0:\n",
    "            print(\n",
    "                f\"{number} is not prime number. \\n***** '{i}' is divider of {number}*****\"\n",
    "            )\n",
    "            break\n",
    "    else:\n",
    "        print(f\"{number} is prime number!!\")\n"
   ]
  },
  {
   "cell_type": "code",
   "execution_count": 2,
   "metadata": {},
   "outputs": [
    {
     "name": "stdout",
     "output_type": "stream",
     "text": [
      "Please enter a positive number:  55\n",
      "55 is not prime number. \n",
      "***** '5' is divider of 55*****\n"
     ]
    }
   ],
   "source": [
    "number = int(input(\"Please enter a positive number:  \"))\n",
    "if number == 0:\n",
    "    print(f\"{number} is not a prime number!\")\n",
    "elif number == 1:\n",
    "    print(f\"{number} is not a prime number\")\n",
    "else:\n",
    "    for i in range(2, number):\n",
    "        if number % i == 0:\n",
    "            print(\n",
    "                f\"{number} is not prime number. \\n***** '{i}' is divider of {number}*****\"\n",
    "            )\n",
    "            break\n",
    "    else:\n",
    "        print(f\"{number} is prime number!!\")\n"
   ]
  },
  {
   "cell_type": "code",
   "execution_count": null,
   "metadata": {},
   "outputs": [],
   "source": []
  },
  {
   "cell_type": "code",
   "execution_count": null,
   "metadata": {},
   "outputs": [],
   "source": []
  },
  {
   "cell_type": "code",
   "execution_count": null,
   "metadata": {},
   "outputs": [],
   "source": []
  },
  {
   "cell_type": "code",
   "execution_count": null,
   "metadata": {},
   "outputs": [],
   "source": []
  },
  {
   "cell_type": "code",
   "execution_count": null,
   "metadata": {},
   "outputs": [],
   "source": []
  },
  {
   "cell_type": "code",
   "execution_count": null,
   "metadata": {},
   "outputs": [],
   "source": []
  },
  {
   "cell_type": "code",
   "execution_count": null,
   "metadata": {},
   "outputs": [],
   "source": []
  },
  {
   "cell_type": "code",
   "execution_count": null,
   "metadata": {},
   "outputs": [],
   "source": []
  },
  {
   "cell_type": "code",
   "execution_count": null,
   "metadata": {},
   "outputs": [],
   "source": []
  },
  {
   "cell_type": "code",
   "execution_count": null,
   "metadata": {},
   "outputs": [],
   "source": []
  },
  {
   "cell_type": "code",
   "execution_count": null,
   "metadata": {},
   "outputs": [],
   "source": []
  }
 ],
 "metadata": {
  "kernelspec": {
   "display_name": "Python 3",
   "language": "python",
   "name": "python3"
  },
  "language_info": {
   "codemirror_mode": {
    "name": "ipython",
    "version": 3
   },
   "file_extension": ".py",
   "mimetype": "text/x-python",
   "name": "python",
   "nbconvert_exporter": "python",
   "pygments_lexer": "ipython3",
   "version": "3.7.6"
  }
 },
 "nbformat": 4,
 "nbformat_minor": 4
}
